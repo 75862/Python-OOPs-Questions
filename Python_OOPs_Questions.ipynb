{
  "nbformat": 4,
  "nbformat_minor": 0,
  "metadata": {
    "colab": {
      "provenance": []
    },
    "kernelspec": {
      "name": "python3",
      "display_name": "Python 3"
    },
    "language_info": {
      "name": "python"
    }
  },
  "cells": [
    {
      "cell_type": "markdown",
      "source": [
        "# Python OOPs Assignment Questions and Ans......"
      ],
      "metadata": {
        "id": "1n8N5SYz6xbw"
      }
    },
    {
      "cell_type": "markdown",
      "source": [
        "#1. What is Object-Oriented Programming (OOP)?\n",
        "OOP is a programming approach based on objects and classes. It allows code reusability and modular design.\n",
        "\n",
        "**Example:** Python, Java support OOP.\n",
        "\n",
        "**Example Code:** class Car:\n",
        "    pass\n"
      ],
      "metadata": {
        "id": "d0auYd3d7CsA"
      }
    },
    {
      "cell_type": "markdown",
      "source": [
        "# 2. What is a class in OOP?\n",
        "\n",
        "A class is a blueprint for creating objects. It defines attributes and methods.\n",
        "\n",
        "**Example:**\n",
        "class Student:\n",
        "    def __init__(self, name):\n",
        "    \n",
        "        self.name = name\n"
      ],
      "metadata": {
        "id": "Ihw_BGm_7fXe"
      }
    },
    {
      "cell_type": "markdown",
      "source": [
        "# 3. What is an object in OOP?\n",
        "\n",
        "An object is an instance of a class. It contains data and functions defined by the class.\n",
        "\n",
        "**Example:**\n",
        "s1 = Student('Abhishek')\n"
      ],
      "metadata": {
        "id": "uWwaE_nv71aQ"
      }
    },
    {
      "cell_type": "markdown",
      "source": [
        "# 4. What is the difference between abstraction and encapsulation ?\n",
        "\n",
        "Abstraction hides complexity; encapsulation hides data. Abstraction is about 'what', encapsulation is about 'how'.\n",
        "\n",
        "**Example**: Using private variables in a class for encapsulation.\n"
      ],
      "metadata": {
        "id": "xFf_A3-B8KGB"
      }
    },
    {
      "cell_type": "markdown",
      "source": [
        "# 5. What are dunder methods in Python?\n",
        "\n",
        "Dunder methods start and end with double underscores (e.g., __init__). They are special methods.\n",
        "\n",
        "**Example:** __str__, __len__, __del__\n"
      ],
      "metadata": {
        "id": "18Yj7e4v8TCJ"
      }
    },
    {
      "cell_type": "markdown",
      "source": [
        "# 6. Explain the concept of inheritance in OOP.\n",
        "Inheritance allows a class to use properties and methods of another class.\n",
        "\n",
        "**Example:**\n",
        " class A:\n",
        "    pass\n",
        "    \n",
        "class B(A):\n",
        "    pass\n"
      ],
      "metadata": {
        "id": "PJbGeIWL8Var"
      }
    },
    {
      "cell_type": "markdown",
      "source": [
        "#7. What is polymorphism in OOP?\n",
        "Polymorphism allows different classes to use the same method name in different ways.\n",
        "\n",
        "**Example:** len() works on both string and list.\n"
      ],
      "metadata": {
        "id": "VQvmR6Ug82mH"
      }
    },
    {
      "cell_type": "markdown",
      "source": [
        "#8. How is encapsulation achieved in Python?\n",
        "Encapsulation is achieved by using private (__) and protected (_) variables.\n",
        "\n",
        "**Example**:\n",
        "self.__balance = 100\n",
        "#9. What is a constructor in Python?\n",
        "Constructor is a special method (__init__) that runs when object is created.\n",
        "\n",
        "**Example:**\n",
        "class A:\n",
        "    def __init__(self):\n",
        "        print('Hello')\n",
        "#10. What are class and static methods in Python?\n",
        "@classmethod takes cls as argument, @staticmethod doesn’t take any special argument.\n",
        "\n",
        "**Example:**\n",
        "@classmethod\n",
        "def create(cls):\n",
        "    return cls()\n",
        "#11. What is method overloading in Python?\n",
        "Python does not support true method overloading. We use default values instead.\n",
        "\n",
        "**Example:**\n",
        "def add(a, b=0): return a + b\n",
        "#12. What is method overriding in OOP?\n",
        "Method overriding allows a child class to change parent class’s method.\n",
        "\n",
        "**Example:** class Child(Parent): def show(self):\n",
        "#13. What is a property decorator in Python?\n",
        "@property allows you to use method like attribute.\n",
        "\n",
        "**Example:**\n",
        "@property\n",
        "def name(self): return self._name\n",
        "#14. Why is polymorphism important in OOP?\n",
        "It allows flexibility and code reusability through method overriding and overloading.\n",
        "#15. What is an abstract class in Python?\n",
        "A class with one or more abstract methods. Cannot be instantiated.\n",
        "Use: from abc import ABC, abstractmethod\n",
        "#16. What are the advantages of OOP?\n",
        "Modularity, Reusability, Scalability, Easy maintenance.\n",
        "#17. What is the difference between a class variable and an instance variable?\n",
        "Class variable shared by all objects. Instance variable unique per object.\n",
        "\n",
        "**Example:** count (class), name (instance)\n",
        "#18. What is multiple inheritance in Python?\n",
        "A class inheriting from more than one class.\n",
        "\n",
        "**Example:** class C(A, B): pass\n",
        "#19. Explain the purpose of '__str__' and '__repr__' methods in Python.\n",
        "__str__ is for user-friendly display. __repr__ is for developer/debugging.\n",
        "\n",
        "**Example:** print(obj) uses __str__\n",
        "#20. What is the significance of the ‘super()’ function in Python?\n",
        "super() allows you to call parent class methods inside child class.\n",
        "\n",
        "**Example:** super().__init__()\n",
        "#21. What is the significance of the '__del__' method in Python?\n",
        "It is a destructor method called when object is deleted.\n",
        "#22. What is the difference between @staticmethod and @classmethod in Python?\n",
        "@staticmethod doesn’t access class/object. @classmethod accesses class (cls).\n",
        "Use cls in classmethod.\n",
        "#23. How does polymorphism work in Python with inheritance?\n",
        "By method overriding. Child class provides new version of parent’s method.\n",
        "#24. What is method chaining in Python OOP?\n",
        "Calling multiple methods one after another using dot.\n",
        "\n",
        "**Example:** obj.method1().method2()\n",
        "#25. What is the purpose of the '__call__' method in Python?\n",
        "Makes an object behave like a function.\n",
        "\n",
        "**Example:**\n",
        "class A:\n",
        "    def __call__(self): print('Called')\n"
      ],
      "metadata": {
        "id": "QKGDpI7g8_Kf"
      }
    },
    {
      "cell_type": "markdown",
      "source": [
        "#**Practical Questions**"
      ],
      "metadata": {
        "id": "D4QRC9Il-i0j"
      }
    },
    {
      "cell_type": "markdown",
      "source": [
        "# 1. Create a parent class Animal with a method speak() that prints a generic message. Create a child class Dog that overrides the speak() method to print 'Bark!'."
      ],
      "metadata": {
        "id": "Or80jIhk-uIA"
      }
    },
    {
      "cell_type": "code",
      "source": [
        "  class Animal:\n",
        "      def speak(self):\n",
        "          print('Animal speaks')\n",
        "\n",
        "  class Dog(Animal):\n",
        "      def speak(self):\n",
        "          print('Bark!')"
      ],
      "metadata": {
        "id": "XX6I8vW0_Cp-"
      },
      "execution_count": 3,
      "outputs": []
    },
    {
      "cell_type": "markdown",
      "source": [
        "# 2. Write a program to create an abstract class Shape with a method area(). Derive classes Circle and Rectangle from it and implement the area() method in both."
      ],
      "metadata": {
        "id": "aSap0SaV_WjK"
      }
    },
    {
      "cell_type": "code",
      "source": [
        "from abc import ABC, abstractmethod\n",
        "\n",
        "class Shape(ABC):\n",
        "    @abstractmethod\n",
        "    def area(self):\n",
        "        pass\n",
        "\n",
        "class Circle(Shape):\n",
        "    def __init__(self, r): self.r = r\n",
        "    def area(self): return 3.14 * self.r * self.r\n",
        "\n",
        "class Rectangle(Shape):\n",
        "    def __init__(self, l, b): self.l = l; self.b = b\n",
        "    def area(self): return self.l * self.b\n",
        "    c = Circle(5)\n",
        "print(\"Circle area:\", c.area())\n",
        "\n",
        "r = Rectangle(4, 6)\n",
        "print(\"Rectangle area:\", r.area())"
      ],
      "metadata": {
        "colab": {
          "base_uri": "https://localhost:8080/"
        },
        "id": "0EhNOqdr_e-c",
        "outputId": "9738f062-3eb0-4d81-c3a3-55305b514189"
      },
      "execution_count": 12,
      "outputs": [
        {
          "output_type": "stream",
          "name": "stdout",
          "text": [
            "Circle area: 78.5\n",
            "Rectangle area: 24\n"
          ]
        }
      ]
    },
    {
      "cell_type": "markdown",
      "source": [
        "#3. Implement a multi-level inheritance scenario where a class Vehicle has an attribute type. Derive a class Car and further derive a class ElectricCar that adds a battery attribute."
      ],
      "metadata": {
        "id": "eoraOc2hBEIK"
      }
    },
    {
      "cell_type": "code",
      "source": [
        "class Vehicle:\n",
        "    def __init__(self, type): self.type = type\n",
        "\n",
        "class Car(Vehicle):\n",
        "    def __init__(self, type, brand): super().__init__(type); self.brand = brand\n",
        "\n",
        "class ElectricCar(Car):\n",
        "    def __init__(self, type, brand, battery): super().__init__(type, brand); self.battery = battery\n",
        "    ecar = ElectricCar(\"Four Wheeler\", \"Tesla\", \"100 kWh\")\n",
        "\n",
        "print(\"Type:\", ecar.type)\n",
        "print(\"Brand:\", ecar.brand)\n",
        "print(\"Battery:\", ecar.battery)"
      ],
      "metadata": {
        "colab": {
          "base_uri": "https://localhost:8080/"
        },
        "id": "1Zj6UUibBJFz",
        "outputId": "7ef2dabe-d5c4-4301-f3b8-195488543e47"
      },
      "execution_count": 11,
      "outputs": [
        {
          "output_type": "stream",
          "name": "stdout",
          "text": [
            "Type: Four Wheeler\n",
            "Brand: Tesla\n",
            "Battery: 100 kWh\n"
          ]
        }
      ]
    },
    {
      "cell_type": "markdown",
      "source": [
        "#4. Demonstrate polymorphism by creating a base class Bird with a method fly(). Create two derived classes Sparrow and Penguin that override the fly() method"
      ],
      "metadata": {
        "id": "FcNhKnQaBsW1"
      }
    },
    {
      "cell_type": "code",
      "source": [
        "class Bird:\n",
        "    def fly(self): print('Bird is flying')\n",
        "\n",
        "class Sparrow(Bird):\n",
        "    def fly(self): print('Sparrow flies high')\n",
        "\n",
        "class Penguin(Bird):\n",
        "    def fly(self): print('Penguins cannot fly')"
      ],
      "metadata": {
        "id": "3x77MBPiFJ7M"
      },
      "execution_count": 28,
      "outputs": []
    },
    {
      "cell_type": "code",
      "source": [
        "b = Bird()\n",
        "b.fly()\n",
        "\n",
        "s = Sparrow()\n",
        "s.fly()\n",
        "\n",
        "p = Penguin()\n",
        "p.fly()"
      ],
      "metadata": {
        "colab": {
          "base_uri": "https://localhost:8080/"
        },
        "id": "e4kz-tKaBi3K",
        "outputId": "8f7ac1b9-f78a-4478-ef87-f440be218246"
      },
      "execution_count": 29,
      "outputs": [
        {
          "output_type": "stream",
          "name": "stdout",
          "text": [
            "Bird is flying\n",
            "Sparrow flies high\n",
            "Penguins cannot fly\n"
          ]
        }
      ]
    },
    {
      "cell_type": "markdown",
      "source": [
        "#5. Write a program to demonstrate encapsulation by creating a class BankAccount with private attributes balance and methods to deposit, withdraw, and check balance"
      ],
      "metadata": {
        "id": "Q4tTF9e_CHlG"
      }
    },
    {
      "cell_type": "code",
      "source": [
        "class BankAccount:\n",
        "    def __init__(self): self.__balance = 0\n",
        "    def deposit(self, amt): self.__balance += amt\n",
        "    def withdraw(self, amt): self.__balance -= amt\n",
        "    def check_balance(self): return self.__balance"
      ],
      "metadata": {
        "id": "ouBDxEkWFD_u"
      },
      "execution_count": 26,
      "outputs": []
    },
    {
      "cell_type": "code",
      "source": [
        "acc = BankAccount()\n",
        "acc.deposit(1000)\n",
        "acc.withdraw(400)\n",
        "print(\"Balance:\", acc.check_balance())"
      ],
      "metadata": {
        "colab": {
          "base_uri": "https://localhost:8080/"
        },
        "id": "JccwofgtCNNK",
        "outputId": "4ff7498b-2520-41ac-9c96-2c97856e9a08"
      },
      "execution_count": 27,
      "outputs": [
        {
          "output_type": "stream",
          "name": "stdout",
          "text": [
            "Balance: 600\n"
          ]
        }
      ]
    },
    {
      "cell_type": "markdown",
      "source": [
        "#6. Demonstrate runtime polymorphism using a method play() in a base class Instrument. Derive classes Guitar and Piano that implement their own version of play()."
      ],
      "metadata": {
        "id": "vjPKtnpMChMx"
      }
    },
    {
      "cell_type": "code",
      "source": [
        "class Instrument:\n",
        "    def play(self):\n",
        "        print('Instrument is playing')\n",
        "\n",
        "class Guitar(Instrument):\n",
        "    def play(self):\n",
        "        print('Playing guitar')\n",
        "\n",
        "class Piano(Instrument):\n",
        "    def play(self):\n",
        "        print('Playing piano')"
      ],
      "metadata": {
        "id": "ondgWMZJCsIo"
      },
      "execution_count": 20,
      "outputs": []
    },
    {
      "cell_type": "code",
      "source": [
        "i = Instrument()\n",
        "i.play()\n",
        "\n",
        "g = Guitar()\n",
        "g.play()\n",
        "\n",
        "p = Piano()\n",
        "p.play()"
      ],
      "metadata": {
        "colab": {
          "base_uri": "https://localhost:8080/"
        },
        "id": "no0Lj1kWDbXF",
        "outputId": "174bab2f-a893-49ec-e5da-833715dfecf6"
      },
      "execution_count": 21,
      "outputs": [
        {
          "output_type": "stream",
          "name": "stdout",
          "text": [
            "Instrument is playing\n",
            "Playing guitar\n",
            "Playing piano\n"
          ]
        }
      ]
    },
    {
      "cell_type": "markdown",
      "source": [
        "# 7. Create a class MathOperations with a class method add_numbers() to add two numbers and a static method subtract_numbers() to subtract two numbers"
      ],
      "metadata": {
        "id": "MpKq_TBKDeyr"
      }
    },
    {
      "cell_type": "code",
      "source": [
        "class MathOperations:\n",
        "    @classmethod\n",
        "    def add_numbers(cls, a, b): return a + b\n",
        "\n",
        "    @staticmethod\n",
        "    def subtract_numbers(a, b): return a - b"
      ],
      "metadata": {
        "id": "9uvy849tDdBE"
      },
      "execution_count": 22,
      "outputs": []
    },
    {
      "cell_type": "code",
      "source": [
        "print(MathOperations.add_numbers(10, 5))\n",
        "print(MathOperations.subtract_numbers(10, 5))"
      ],
      "metadata": {
        "colab": {
          "base_uri": "https://localhost:8080/"
        },
        "id": "mMdR49DvEOa_",
        "outputId": "9f419030-4010-498b-9641-5a4627ffe436"
      },
      "execution_count": 23,
      "outputs": [
        {
          "output_type": "stream",
          "name": "stdout",
          "text": [
            "15\n",
            "5\n"
          ]
        }
      ]
    },
    {
      "cell_type": "markdown",
      "source": [
        "# 8. Implement a class Person with a class method to count the total number of persons created."
      ],
      "metadata": {
        "id": "Ssl5JfTUER87"
      }
    },
    {
      "cell_type": "code",
      "source": [
        "class Person:\n",
        "    count = 0\n",
        "\n",
        "    def __init__(self): Person.count += 1\n",
        "\n",
        "    @classmethod\n",
        "    def total_persons(cls): return cls.count"
      ],
      "metadata": {
        "id": "u3n1AoIoEP9L"
      },
      "execution_count": 24,
      "outputs": []
    },
    {
      "cell_type": "code",
      "source": [
        "p1 = Person()\n",
        "p2 = Person()\n",
        "p3 = Person()\n",
        "\n",
        "print(Person.total_persons())"
      ],
      "metadata": {
        "colab": {
          "base_uri": "https://localhost:8080/"
        },
        "id": "IZf6kKPJEkuH",
        "outputId": "8a73cd1c-771c-4093-8fbc-a9d7977d7ca1"
      },
      "execution_count": 25,
      "outputs": [
        {
          "output_type": "stream",
          "name": "stdout",
          "text": [
            "3\n"
          ]
        }
      ]
    },
    {
      "cell_type": "markdown",
      "source": [
        "# 9. Write a class Fraction with attributes numerator and denominator. Override the __str__ method to display the fraction as 'numerator/denominator'"
      ],
      "metadata": {
        "id": "T9veUWM7FWMQ"
      }
    },
    {
      "cell_type": "code",
      "source": [
        "class Fraction:\n",
        "    def __init__(self, num, den): self.num = num; self.den = den\n",
        "    def __str__(self): return f'{self.num}/{self.den}'"
      ],
      "metadata": {
        "id": "3KgKXn3IFa8l"
      },
      "execution_count": 30,
      "outputs": []
    },
    {
      "cell_type": "code",
      "source": [
        "f = Fraction(3, 4)\n",
        "print(f)"
      ],
      "metadata": {
        "colab": {
          "base_uri": "https://localhost:8080/"
        },
        "id": "N1eWc23TEnoF",
        "outputId": "2bed00c3-123f-40d6-fa8e-e2ed89a6c565"
      },
      "execution_count": 31,
      "outputs": [
        {
          "output_type": "stream",
          "name": "stdout",
          "text": [
            "3/4\n"
          ]
        }
      ]
    },
    {
      "cell_type": "markdown",
      "source": [
        "# 10. Demonstrate operator overloading by creating a class Vector and overriding the __add__ method to add two vectors"
      ],
      "metadata": {
        "id": "EGslS8XlFxPM"
      }
    },
    {
      "cell_type": "code",
      "source": [
        "class Vector:\n",
        "    def __init__(self, x, y): self.x = x; self.y = y\n",
        "    def __add__(self, other): return Vector(self.x + other.x, self.y + other.y)\n",
        "    def __str__(self): return f'({self.x}, {self.y})'"
      ],
      "metadata": {
        "id": "WuEjdPTYFw7J"
      },
      "execution_count": 32,
      "outputs": []
    },
    {
      "cell_type": "code",
      "source": [
        "v1 = Vector(2, 3)\n",
        "v2 = Vector(4, 5)\n",
        "\n",
        "result = v1 + v2\n",
        "print(result)"
      ],
      "metadata": {
        "colab": {
          "base_uri": "https://localhost:8080/"
        },
        "id": "IM7MOMZfF8Iy",
        "outputId": "00e7de6a-942f-4657-9e92-443cea97e3d5"
      },
      "execution_count": 33,
      "outputs": [
        {
          "output_type": "stream",
          "name": "stdout",
          "text": [
            "(6, 8)\n"
          ]
        }
      ]
    },
    {
      "cell_type": "markdown",
      "source": [
        "# 11. Create a class Person with attributes name and age. Add a method greet() that prints 'Hello, my name is {name} and I am {age} years old.'"
      ],
      "metadata": {
        "id": "dZPu8IrlF-1r"
      }
    },
    {
      "cell_type": "code",
      "source": [
        "class Person:\n",
        "    def __init__(self, name, age): self.name = name; self.age = age\n",
        "    def greet(self): print(f'Hello, my name is {self.name} and I am {self.age} years old.')"
      ],
      "metadata": {
        "id": "dUGP7j4zF9i1"
      },
      "execution_count": 34,
      "outputs": []
    },
    {
      "cell_type": "code",
      "source": [
        "p = Person(\"Abhishek\", 21)\n",
        "p.greet()"
      ],
      "metadata": {
        "colab": {
          "base_uri": "https://localhost:8080/"
        },
        "id": "mkwsZf7TGGek",
        "outputId": "d11051c8-3682-435c-c032-38f6919f906f"
      },
      "execution_count": 35,
      "outputs": [
        {
          "output_type": "stream",
          "name": "stdout",
          "text": [
            "Hello, my name is Abhishek and I am 21 years old.\n"
          ]
        }
      ]
    },
    {
      "cell_type": "markdown",
      "source": [
        "#12. Implement a class Student with attributes name and grades. Create a method average_grade() to compute the average of the grades."
      ],
      "metadata": {
        "id": "PCBonhSyGR5X"
      }
    },
    {
      "cell_type": "code",
      "source": [
        "class Student:\n",
        "    def __init__(self, name, grades): self.name = name; self.grades = grades\n",
        "    def average_grade(self): return sum(self.grades)/len(self.grades)"
      ],
      "metadata": {
        "id": "fFnWLOA5GX8x"
      },
      "execution_count": 36,
      "outputs": []
    },
    {
      "cell_type": "code",
      "source": [
        "s = Student(\"Abhishek\", [85, 90, 78])\n",
        "print(f\"{s.name}'s average grade:\", s.average_grade())"
      ],
      "metadata": {
        "colab": {
          "base_uri": "https://localhost:8080/"
        },
        "id": "cRWBOOWHGe8D",
        "outputId": "7662ebf4-e722-4e43-ae32-d58b469ddb16"
      },
      "execution_count": 37,
      "outputs": [
        {
          "output_type": "stream",
          "name": "stdout",
          "text": [
            "Abhishek's average grade: 84.33333333333333\n"
          ]
        }
      ]
    },
    {
      "cell_type": "markdown",
      "source": [
        "# 13. Create a class Rectangle with methods set_dimensions() to set the dimensions and area() to calculate the area."
      ],
      "metadata": {
        "id": "0WRCqAcCGjSM"
      }
    },
    {
      "cell_type": "code",
      "source": [
        "class Rectangle:\n",
        "    def set_dimensions(self, l, b): self.l = l; self.b = b\n",
        "    def area(self): return self.l * self.b"
      ],
      "metadata": {
        "id": "WTK0DqYrGg0O"
      },
      "execution_count": 38,
      "outputs": []
    },
    {
      "cell_type": "code",
      "source": [
        "r = Rectangle()\n",
        "r.set_dimensions(5, 3)\n",
        "print(\"Area of rectangle:\", r.area())"
      ],
      "metadata": {
        "colab": {
          "base_uri": "https://localhost:8080/"
        },
        "id": "BSLrdekhGqTr",
        "outputId": "9cff2426-d860-4924-98fb-b76afbfb223a"
      },
      "execution_count": 39,
      "outputs": [
        {
          "output_type": "stream",
          "name": "stdout",
          "text": [
            "Area of rectangle: 15\n"
          ]
        }
      ]
    },
    {
      "cell_type": "markdown",
      "source": [
        "# 14. Create a class Employee with a method calculate_salary() that computes the salary based on hours worked and hourly rate. Create a derived class Manager that adds a bonus to the salary."
      ],
      "metadata": {
        "id": "NmVC-4-gGvBd"
      }
    },
    {
      "cell_type": "code",
      "source": [
        "class Employee:\n",
        "    def calculate_salary(self, hrs, rate): return hrs * rate\n",
        "\n",
        "class Manager(Employee):\n",
        "    def calculate_salary(self, hrs, rate, bonus): return super().calculate_salary(hrs, rate) + bonus"
      ],
      "metadata": {
        "id": "99T18ii9Gsbc"
      },
      "execution_count": 40,
      "outputs": []
    },
    {
      "cell_type": "code",
      "source": [
        "e = Employee()\n",
        "print(\"Employee salary:\", e.calculate_salary(40, 200))\n",
        "\n",
        "m = Manager()\n",
        "print(\"Manager salary:\", m.calculate_salary(40, 200, 5000))"
      ],
      "metadata": {
        "colab": {
          "base_uri": "https://localhost:8080/"
        },
        "id": "F0edcDuhG2a8",
        "outputId": "ab764e33-75a0-4474-96b6-a8fd74f86b11"
      },
      "execution_count": 41,
      "outputs": [
        {
          "output_type": "stream",
          "name": "stdout",
          "text": [
            "Employee salary: 8000\n",
            "Manager salary: 13000\n"
          ]
        }
      ]
    },
    {
      "cell_type": "markdown",
      "source": [
        "#15. Create a class Product with attributes name, price, and quantity. Implement a method total_price() that calculates the total price of the product"
      ],
      "metadata": {
        "id": "JJ1lmIJ-G_E6"
      }
    },
    {
      "cell_type": "code",
      "source": [
        "class Product:\n",
        "    def __init__(self, name, price, qty): self.name = name; self.price = price; self.qty = qty\n",
        "    def total_price(self): return self.price * self.qty"
      ],
      "metadata": {
        "id": "-QBJMS9qHEqH"
      },
      "execution_count": 42,
      "outputs": []
    },
    {
      "cell_type": "code",
      "source": [
        "p = Product(\"Laptop\", 50000, 2)\n",
        "print(\"Total price:\", p.total_price())"
      ],
      "metadata": {
        "colab": {
          "base_uri": "https://localhost:8080/"
        },
        "id": "nAczH2a_G4Qd",
        "outputId": "cb364754-4af2-4300-e324-183fb53a8af9"
      },
      "execution_count": 43,
      "outputs": [
        {
          "output_type": "stream",
          "name": "stdout",
          "text": [
            "Total price: 100000\n"
          ]
        }
      ]
    },
    {
      "cell_type": "markdown",
      "source": [
        "# 16. Create a class Animal with an abstract method sound(). Create two derived classes Cow and Sheep that implement the sound() method."
      ],
      "metadata": {
        "id": "VICF7X2UHVdV"
      }
    },
    {
      "cell_type": "code",
      "source": [
        "from abc import ABC, abstractmethod\n",
        "\n",
        "class Animal(ABC):\n",
        "    @abstractmethod\n",
        "    def sound(self): pass\n",
        "\n",
        "class Cow(Animal):\n",
        "    def sound(self): print('Moo')\n",
        "\n",
        "class Sheep(Animal):\n",
        "    def sound(self): print('Baa')"
      ],
      "metadata": {
        "id": "mKaNmIkFHT-T"
      },
      "execution_count": 44,
      "outputs": []
    },
    {
      "cell_type": "code",
      "source": [
        "c = Cow()\n",
        "c.sound()\n",
        "\n",
        "s = Sheep()\n",
        "s.sound()\n"
      ],
      "metadata": {
        "colab": {
          "base_uri": "https://localhost:8080/"
        },
        "id": "-Kn0DU2aHgNm",
        "outputId": "e85c32d3-923f-4a86-c237-c300867fa997"
      },
      "execution_count": 45,
      "outputs": [
        {
          "output_type": "stream",
          "name": "stdout",
          "text": [
            "Moo\n",
            "Baa\n"
          ]
        }
      ]
    },
    {
      "cell_type": "markdown",
      "source": [
        "# 17. Create a class Book with attributes title, author, and year_published. Add a method get_book_info() that returns a formatted string with the book's details"
      ],
      "metadata": {
        "id": "WYp4cT9cHpFX"
      }
    },
    {
      "cell_type": "code",
      "source": [
        "class Book:\n",
        "    def __init__(self, title, author, year): self.title = title; self.author = author; self.year = year\n",
        "    def get_book_info(self): return f'{self.title} by {self.author}, {self.year}'"
      ],
      "metadata": {
        "id": "uH8KO5hhHq4T"
      },
      "execution_count": 46,
      "outputs": []
    },
    {
      "cell_type": "code",
      "source": [
        "b = Book(\"The Book\", \"Abhishek Bhardwaj\", 2018)\n",
        "print(b.get_book_info())"
      ],
      "metadata": {
        "colab": {
          "base_uri": "https://localhost:8080/"
        },
        "id": "qrx3Ci4iHuOF",
        "outputId": "8b7cc7b9-aa5c-40f3-8872-3d798280fdc2"
      },
      "execution_count": 50,
      "outputs": [
        {
          "output_type": "stream",
          "name": "stdout",
          "text": [
            "The Book by Abhishek Bhardwaj, 2018\n"
          ]
        }
      ]
    },
    {
      "cell_type": "markdown",
      "source": [
        "# 18. Create a class House with attributes address and price. Create a derived class Mansion that adds an attribute number_of_rooms"
      ],
      "metadata": {
        "id": "tsuzFpOCH3Fk"
      }
    },
    {
      "cell_type": "code",
      "source": [
        "class House:\n",
        "    def __init__(self, address, price): self.address = address; self.price = price\n",
        "\n",
        "class Mansion(House):\n",
        "    def __init__(self, address, price, rooms): super().__init__(address, price); self.rooms = rooms"
      ],
      "metadata": {
        "id": "1PSsj4K-Hxst"
      },
      "execution_count": 48,
      "outputs": []
    },
    {
      "cell_type": "code",
      "source": [
        "m = Mansion(\"123 Elite Street\", 5000000, 10)\n",
        "print(\"Address:\", m.address)\n",
        "print(\"Price:\", m.price)\n",
        "print(\"Rooms:\", m.rooms)"
      ],
      "metadata": {
        "colab": {
          "base_uri": "https://localhost:8080/"
        },
        "id": "3c2nX7LyH7yo",
        "outputId": "9e431d06-48cf-40a1-c729-be070bc65418"
      },
      "execution_count": 49,
      "outputs": [
        {
          "output_type": "stream",
          "name": "stdout",
          "text": [
            "Address: 123 Elite Street\n",
            "Price: 5000000\n",
            "Rooms: 10\n"
          ]
        }
      ]
    },
    {
      "cell_type": "code",
      "source": [],
      "metadata": {
        "id": "obR-RCB-H_fO"
      },
      "execution_count": null,
      "outputs": []
    }
  ]
}